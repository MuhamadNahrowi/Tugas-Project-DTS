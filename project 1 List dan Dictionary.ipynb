{
 "cells": [
  {
   "cell_type": "markdown",
   "metadata": {},
   "source": [
    "https://colab.research.google.com/drive/14fxT33ZIxwg_ZlTa7HYdealuAV01Xqlw?usp=sharing"
   ]
  },
  {
   "cell_type": "markdown",
   "metadata": {},
   "source": [
    "1. Buatlah fungsi letter_catalog dengan sebuah positional argument berupa list dan keyword argument letter untuk nilai default 'A'. Fungsi letter_catalog akan mengembalikan sebuah list yang berisi nama-nama buah yang dimulai dengan huruf yang ada keyword argument letter. Jika tidak ada item di list inputan tersebut yang diawali dengan huruf yang didefinisikan di keyword letter maka fungsi mengembalikan list kosong."
   ]
  },
  {
   "cell_type": "code",
   "execution_count": 1,
   "metadata": {},
   "outputs": [],
   "source": [
    "#Graded\n",
    "\n",
    "def letter_catalog(items,letter='A'):\n",
    "    pass\n",
    "    letter_catalog = []\n",
    "    for i in items:\n",
    "        if i[0]==letter:\n",
    "            letter_catalog.append(i)\n",
    "    return letter_catalog"
   ]
  },
  {
   "cell_type": "code",
   "execution_count": 2,
   "metadata": {},
   "outputs": [
    {
     "data": {
      "text/plain": [
       "['Apple', 'Avocado']"
      ]
     },
     "execution_count": 2,
     "metadata": {},
     "output_type": "execute_result"
    }
   ],
   "source": [
    "# Cek output kode anda\n",
    "letter_catalog(['Apple','Avocado','Banana','Blackberries','Blueberries','Cherries'],letter='A')"
   ]
  },
  {
   "cell_type": "code",
   "execution_count": null,
   "metadata": {},
   "outputs": [],
   "source": []
  },
  {
   "cell_type": "markdown",
   "metadata": {},
   "source": [
    "2. Buatlah fungsi counter_item yang memiliki sebuah input argument berupa list. Fungsi ini mengembalikan sebuah dictionary yang menghitung jumlah buah dalam list input, dengan key berupa nama buah tersebut dan value berupa jumlah nama buah tersebut muncul di list input."
   ]
  },
  {
   "cell_type": "code",
   "execution_count": 3,
   "metadata": {},
   "outputs": [],
   "source": [
    "#Graded\n",
    "\n",
    "def counter_item(items):\n",
    "    pass\n",
    "  # MULAI KODEMU DI SINI\n",
    "    counter = {}\n",
    "    for i in items:\n",
    "        if (i in counter):\n",
    "            counter[i] += 1\n",
    "        else:\n",
    "            counter[i] = 1\n",
    "    return counter"
   ]
  },
  {
   "cell_type": "code",
   "execution_count": 4,
   "metadata": {},
   "outputs": [
    {
     "data": {
      "text/plain": [
       "{'Apple': 3, 'Blueberries': 3}"
      ]
     },
     "execution_count": 4,
     "metadata": {},
     "output_type": "execute_result"
    }
   ],
   "source": [
    "# Cek output kode anda\n",
    "counter_item(['Apple','Apple','Apple','Blueberries','Blueberries','Blueberries'])"
   ]
  },
  {
   "cell_type": "code",
   "execution_count": null,
   "metadata": {},
   "outputs": [],
   "source": []
  },
  {
   "cell_type": "code",
   "execution_count": 5,
   "metadata": {},
   "outputs": [],
   "source": [
    "items = ['Apple','Apple','Apple','Blueberries','Blueberries','Blueberries']\n",
    "\n",
    "items.count('Apple')\n",
    "\n",
    "# i = 0\n",
    "# for i in items:\n",
    "#     i += i\n",
    "#     print(i)\n",
    "    \n",
    "def counter(items):\n",
    "    counter = {}\n",
    "    for i in items:\n",
    "        if (i in counter):\n",
    "            counter[i] += 1\n",
    "        else:\n",
    "            counter[i] = 1\n",
    "    return counter\n",
    "\n"
   ]
  },
  {
   "cell_type": "code",
   "execution_count": 6,
   "metadata": {},
   "outputs": [
    {
     "data": {
      "text/plain": [
       "{'Apple': 3, 'Blueberries': 3}"
      ]
     },
     "execution_count": 6,
     "metadata": {},
     "output_type": "execute_result"
    }
   ],
   "source": [
    "counter(['Apple','Apple','Apple','Blueberries','Blueberries','Blueberries'])"
   ]
  },
  {
   "cell_type": "code",
   "execution_count": null,
   "metadata": {},
   "outputs": [],
   "source": []
  },
  {
   "cell_type": "markdown",
   "metadata": {},
   "source": [
    "3. Di bawah ini sudah ada tiga variables fruits, prices, dan chart.\n",
    "Buatlah sebuah dictionary yang berupa daftar harga buah dengan key berupa nama buah di variable fruits dan dengan value berupa harga dari buah tersebut di variable price (sudah diurutkan sesuai dengan nama-nama buah di varibale fruits, kemudian Dictionary tersebut disimpan di dalam variable fruit_price.\n",
    "Selanjutnya, Buatlah fungsi total_price dengan dua input yaitu: 1) dictionary yang merupakan keluaran dari fungsi counter_item dan 2) dictionary harga buah fruit_price. Fungsi ini mengeluarkan sebuah total harga dari daftar buah di dictionary keluaran dari counter_item."
   ]
  },
  {
   "cell_type": "code",
   "execution_count": 7,
   "metadata": {},
   "outputs": [],
   "source": [
    "#Graded\n",
    "\n",
    "# dua variable berikut jangan diubah\n",
    "fruits = ['Apple','Avocado','Banana','Blackberries','Blueberries','Cherries','Date Fruit','Grapes','Guava','Jackfruit','Kiwifruit']\n",
    "prices = [6,5,3,10,12,7,14,15,8,7,9]\n",
    "\n",
    "# list buah\n",
    "chart = ['Blueberries','Blueberries','Grapes','Apple','Apple','Apple','Blueberries','Guava','Jackfruit','Blueberries','Jackfruit']\n",
    "\n",
    "# MULAI KODEMU DI SINI\n",
    "def counter_item(items):\n",
    "    pass\n",
    "    counter = {}\n",
    "    for i in items:\n",
    "        if (i in counter):\n",
    "            counter[i] += 1\n",
    "        else:\n",
    "            counter[i] = 1\n",
    "    return counter\n",
    "\n",
    "\n",
    "fruit_price = dict(zip(fruits, prices))\n",
    "\n",
    "def total_price(dcounter,fprice):\n",
    "    pass\n",
    "  # MULAI KODEMU DI SINI\n",
    "#     prices = {\"banana\" : 4,\"apple\"  : 2,\"orange\" : 1.5,\"pear\":3}\n",
    "# stock = {\"banana\" : 6,\"apple\"  : 0,\"orange\" : 32,\"pear\": 15,}\n",
    "\n",
    "# for key in prices:\n",
    "# #     print key\n",
    "#     print \"price: %s\" % prices[key]\n",
    "#     print \"stock: %s\" % stock[key]\n",
    "\n",
    "    total = 0\n",
    "    for key in dcounter:\n",
    "        value = dcounter[key] * fprice[key]\n",
    "        print (value)\n",
    "        total = total + value\n",
    "    return total"
   ]
  },
  {
   "cell_type": "code",
   "execution_count": 8,
   "metadata": {},
   "outputs": [
    {
     "name": "stdout",
     "output_type": "stream",
     "text": [
      "48\n",
      "15\n",
      "18\n",
      "8\n",
      "14\n"
     ]
    },
    {
     "data": {
      "text/plain": [
       "103"
      ]
     },
     "execution_count": 8,
     "metadata": {},
     "output_type": "execute_result"
    }
   ],
   "source": [
    "# Cek output kode anda\n",
    "total_price(counter_item(chart),fruit_price)"
   ]
  },
  {
   "cell_type": "code",
   "execution_count": 9,
   "metadata": {},
   "outputs": [
    {
     "data": {
      "text/plain": [
       "{'Blueberries': 4, 'Grapes': 1, 'Apple': 3, 'Guava': 1, 'Jackfruit': 2}"
      ]
     },
     "execution_count": 9,
     "metadata": {},
     "output_type": "execute_result"
    }
   ],
   "source": [
    "counter_item(chart)"
   ]
  },
  {
   "cell_type": "code",
   "execution_count": 10,
   "metadata": {},
   "outputs": [
    {
     "data": {
      "text/plain": [
       "{'Apple': 6,\n",
       " 'Avocado': 5,\n",
       " 'Banana': 3,\n",
       " 'Blackberries': 10,\n",
       " 'Blueberries': 12,\n",
       " 'Cherries': 7,\n",
       " 'Date Fruit': 14,\n",
       " 'Grapes': 15,\n",
       " 'Guava': 8,\n",
       " 'Jackfruit': 7,\n",
       " 'Kiwifruit': 9}"
      ]
     },
     "execution_count": 10,
     "metadata": {},
     "output_type": "execute_result"
    }
   ],
   "source": [
    "fruit_price"
   ]
  },
  {
   "cell_type": "code",
   "execution_count": null,
   "metadata": {},
   "outputs": [],
   "source": []
  },
  {
   "cell_type": "markdown",
   "metadata": {},
   "source": [
    "4. Buatlah fungsi discounted_price dengan dua positional arguments input dari keluaran fungsi totalprice dan discount dalam persen(80 berarti 80%, dst), dan satu keyword argument minprice yang menunjukkan hanya dengan minimum price tersebut yang hanya di-discount, set default value minprice ke 100. Fungsi tersebut menghitung nilai harga akhir setelah di-discount sebesar discount variable (argument kedua). Untuk harga total yang kurang dari minprice maka keluarannya sama dengan harga total tersebut tanpa discount."
   ]
  },
  {
   "cell_type": "code",
   "execution_count": 16,
   "metadata": {},
   "outputs": [],
   "source": [
    "#Graded\n",
    "\n",
    "def discounted_price(total,discount,minprice=100):\n",
    "    pass\n",
    "  # MULAI KODEMU DI SINI\n",
    "    for i in [total]:\n",
    "        if i>=minprice:\n",
    "            total = total - (total*discount/100)\n",
    "        else:\n",
    "            total\n",
    "    return total"
   ]
  },
  {
   "cell_type": "code",
   "execution_count": 17,
   "metadata": {},
   "outputs": [
    {
     "name": "stdout",
     "output_type": "stream",
     "text": [
      "48\n",
      "15\n",
      "18\n",
      "8\n",
      "14\n"
     ]
    },
    {
     "data": {
      "text/plain": [
       "92.7"
      ]
     },
     "execution_count": 17,
     "metadata": {},
     "output_type": "execute_result"
    }
   ],
   "source": [
    "# Cek output kode anda\n",
    "discounted_price(total_price(counter_item(chart),fruit_price),10,minprice=100)"
   ]
  },
  {
   "cell_type": "code",
   "execution_count": null,
   "metadata": {},
   "outputs": [],
   "source": []
  },
  {
   "cell_type": "markdown",
   "metadata": {},
   "source": [
    "5. Buatlah fungsi print_summary dengan 2 posisional argument input, list nama2 buah (cth: seperti variable chart) dan dictionary harga buah (cth: seperti variable fruit_price, yang mengeluarkan tulisan ringakasan dari pembelian buah seperti berikut ini."
   ]
  },
  {
   "cell_type": "code",
   "execution_count": 13,
   "metadata": {},
   "outputs": [],
   "source": [
    "#Graded\n",
    "\n",
    "def print_summary(items,fprice):\n",
    "    pass\n",
    "  # MULAI KODEMU DI SINI\n",
    "    total = 0\n",
    "    for key in sorted(counter_item(chart)):\n",
    "        value = counter_item(chart)[key] * fprice[key]\n",
    "        print(counter_item(chart)[key],' ',key,' : ',value)\n",
    "        total = total + value\n",
    "    print('total : ',total)\n",
    "    if total>100:\n",
    "        total = total - (total*0.1)\n",
    "    else:\n",
    "        total\n",
    "    print('discount price : ',total)"
   ]
  },
  {
   "cell_type": "code",
   "execution_count": 14,
   "metadata": {},
   "outputs": [
    {
     "name": "stdout",
     "output_type": "stream",
     "text": [
      "3   Apple  :  18\n",
      "4   Blueberries  :  48\n",
      "1   Grapes  :  15\n",
      "1   Guava  :  8\n",
      "2   Jackfruit  :  14\n",
      "total :  103\n",
      "discount price :  92.7\n"
     ]
    }
   ],
   "source": [
    "# Cek output kode anda\n",
    "print_summary(chart,fruit_price)\n",
    "  "
   ]
  },
  {
   "cell_type": "code",
   "execution_count": null,
   "metadata": {},
   "outputs": [],
   "source": []
  }
 ],
 "metadata": {
  "kernelspec": {
   "display_name": "Python 3",
   "language": "python",
   "name": "python3"
  },
  "language_info": {
   "codemirror_mode": {
    "name": "ipython",
    "version": 3
   },
   "file_extension": ".py",
   "mimetype": "text/x-python",
   "name": "python",
   "nbconvert_exporter": "python",
   "pygments_lexer": "ipython3",
   "version": "3.7.7"
  }
 },
 "nbformat": 4,
 "nbformat_minor": 4
}
